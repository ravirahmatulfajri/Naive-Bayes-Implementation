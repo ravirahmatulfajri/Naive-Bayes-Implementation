{
 "cells": [
  {
   "cell_type": "markdown",
   "metadata": {},
   "source": [
    "# Naive Bayes Learner"
   ]
  },
  {
   "cell_type": "code",
   "execution_count": 1,
   "metadata": {},
   "outputs": [],
   "source": [
    "# Load libraries\n",
    "import numpy as np\n",
    "import pandas as pd\n",
    "from NaiveBayesClassifier import NaiveBayesClassifier"
   ]
  },
  {
   "cell_type": "markdown",
   "metadata": {},
   "source": [
    "## Helper Functions"
   ]
  },
  {
   "cell_type": "code",
   "execution_count": 2,
   "metadata": {},
   "outputs": [],
   "source": [
    "def preprocess(csv_path):\n",
    "    \"\"\"Reads and processes a csv data file. Returns a tuple of:\n",
    "    (<2D list of instances>, <list of class labels>, <number of unique labels>).\n",
    "    \"\"\"\n",
    "    \n",
    "    df = pd.read_csv(csv_path, header=None)\n",
    "\n",
    "    # Add a list of each instance for each attribute (the first N-1 columns in the DataFrame)\n",
    "    instance_list = []\n",
    "    if ((len(df.columns) > 1)):\n",
    "        for attribute_index in range(0, (len(df.columns) - 2)):\n",
    "            instance_list.append(df[attribute_index].tolist())\n",
    "    \n",
    "    # Make sure attribute instances are in String format\n",
    "    for index in range (0, len(instance_list)):\n",
    "        instance_list[index] = [str(i) for i in instance_list[index]]\n",
    "        \n",
    "    class_list = []\n",
    "    if ((len(df.columns) > 0)):\n",
    "        class_list = df[(len(df.columns) - 1)].tolist()\n",
    "    class_list = [str(i) for i in class_list]\n",
    "    \n",
    "    n_classes = len(set(class_list))\n",
    "    return instance_list, class_list, n_classes"
   ]
  },
  {
   "cell_type": "code",
   "execution_count": 3,
   "metadata": {},
   "outputs": [],
   "source": [
    "def evaluate_model(predicted_classes, actual_classes):\n",
    "    \"\"\"Evaluates the number of correct predictions made by a Multinomial Naive Bayes classifier.\n",
    "    Returns an accuracy score between [0,1].\n",
    "    \"\"\"\n",
    "    \n",
    "    n_correct = 0\n",
    "    for test in range(len(predicted_classes)):\n",
    "        if predicted_classes[test] == actual_classes[test]:\n",
    "            n_correct += 1\n",
    "    return n_correct / len(predicted_classes)"
   ]
  },
  {
   "cell_type": "markdown",
   "metadata": {},
   "source": [
    "## Results"
   ]
  },
  {
   "cell_type": "code",
   "execution_count": 4,
   "metadata": {},
   "outputs": [],
   "source": [
    "def test_and_print_results(dataset_csv_path):\n",
    "    \"\"\"Trains and evaluates a Multinomial Naive Bayes learner and prints an accuracy score\"\"\"\n",
    "    \n",
    "    data = preprocess(dataset_csv_path)\n",
    "    \n",
    "    NB = NaiveBayesClassifier()\n",
    "    NB.train(data[0], data[1])\n",
    "    predicted_classes = NB.predict(data[0])\n",
    "    acc = evaluate_model(predicted_classes, data[1])\n",
    "    print('Acc: '+ '{0:.2f}'.format(acc * 100) + '% for ' + dataset_csv_path.split('/')[-1] \\\n",
    "          +  ' with ' + str(len(predicted_classes)) + ' instances')"
   ]
  },
  {
   "cell_type": "code",
   "execution_count": 5,
   "metadata": {},
   "outputs": [
    {
     "name": "stdout",
     "output_type": "stream",
     "text": [
      "Multinomial Naive Bayes (Laplace Smoothing)\n",
      "------------------------------------------\n",
      "Acc: 75.52% for breast-cancer.csv with 286 instances\n",
      "Acc: 69.85% for car.csv with 1728 instances\n",
      "Acc: 95.19% for hypothyroid.csv with 3163 instances\n",
      "Acc: 95.53% for mushroom.csv with 8124 instances\n"
     ]
    }
   ],
   "source": [
    "# Print results with laplace smoothing\n",
    "print('Multinomial Naive Bayes (Laplace Smoothing)')\n",
    "print('------------------------------------------')\n",
    "test_and_print_results('data/breast-cancer.csv')\n",
    "test_and_print_results('data/car.csv')\n",
    "test_and_print_results('data/hypothyroid.csv')\n",
    "test_and_print_results('data/mushroom.csv')"
   ]
  },
  {
   "cell_type": "code",
   "execution_count": null,
   "metadata": {},
   "outputs": [],
   "source": []
  }
 ],
 "metadata": {
  "kernelspec": {
   "display_name": "Python 3",
   "language": "python",
   "name": "python3"
  },
  "language_info": {
   "codemirror_mode": {
    "name": "ipython",
    "version": 3
   },
   "file_extension": ".py",
   "mimetype": "text/x-python",
   "name": "python",
   "nbconvert_exporter": "python",
   "pygments_lexer": "ipython3",
   "version": "3.6.3"
  }
 },
 "nbformat": 4,
 "nbformat_minor": 2
}
