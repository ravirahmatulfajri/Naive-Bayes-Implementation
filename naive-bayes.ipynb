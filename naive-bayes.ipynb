{
 "cells": [
  {
   "cell_type": "markdown",
   "metadata": {},
   "source": [
    "# Naive Bayes Learner"
   ]
  },
  {
   "cell_type": "code",
   "execution_count": 68,
   "metadata": {
    "collapsed": true
   },
   "outputs": [],
   "source": [
    "# Load libraries\n",
    "import numpy as np\n",
    "import pandas as pd\n",
    "from collections import defaultdict\n",
    "from math import log, exp"
   ]
  },
  {
   "cell_type": "markdown",
   "metadata": {},
   "source": [
    "## Implementation"
   ]
  },
  {
   "cell_type": "code",
   "execution_count": 69,
   "metadata": {
    "collapsed": true
   },
   "outputs": [],
   "source": [
    "def preprocess(csv_path):\n",
    "    \"\"\"Reads and processes a csv data file. Returns a tuple of:\n",
    "    (<2D list of instances>, <list of class labels>, <number of unique labels>).\n",
    "    \"\"\"\n",
    "    \n",
    "    df = pd.read_csv(csv_path, header=None)\n",
    "\n",
    "    # Add a list of each instance for each attribute (the first N-1 columns in the DataFrame)\n",
    "    instance_list = []\n",
    "    if ((len(df.columns) > 1)):\n",
    "        for attribute_index in range(0, (len(df.columns) - 2)):\n",
    "            instance_list.append(df[attribute_index].tolist())\n",
    "    \n",
    "    # Make sure attribute instances are in String format\n",
    "    for index in range (0, len(instance_list)):\n",
    "        instance_list[index] = [str(i) for i in instance_list[index]]\n",
    "        \n",
    "    class_list = []\n",
    "    if ((len(df.columns) > 0)):\n",
    "        class_list = df[(len(df.columns) - 1)].tolist()\n",
    "    class_list = [str(i) for i in class_list]\n",
    "    \n",
    "    n_classes = len(set(class_list))\n",
    "    return instance_list, class_list, n_classes"
   ]
  },
  {
   "cell_type": "code",
   "execution_count": 70,
   "metadata": {
    "collapsed": true
   },
   "outputs": [],
   "source": [
    "def train_supervised(data):\n",
    "    \"\"\"Trains a supervised Naive Bayes learner based on a processed csv file.\n",
    "    \n",
    "    Takes in data as a tuple of (<list of instances>, <list of class labels>).\n",
    "    Uses Laplace Smoothing to make all posterior probabilities non-zero.\n",
    "    It returns a supervised Naive Bayes model as a tuple of of prior and posterior counts.\n",
    "    \"\"\"\n",
    "\n",
    "    def calculate_priors(class_list):\n",
    "        \"\"\"calculate_priors takes in a list of class labels in String format.\n",
    "        It returns a dictonary of class labels and their prior probabilities\n",
    "        \"\"\" \n",
    "        \n",
    "        prior_dd = defaultdict(int)\n",
    "        \n",
    "        # Count all class labels and add to dictionary\n",
    "        for class_label in class_list:\n",
    "            prior_dd[class_label] += 1\n",
    "            \n",
    "        return dict(prior_dd)\n",
    "  \n",
    "\n",
    "    def calculate_posteriors(priors_dict, instance_list, class_list):\n",
    "        \"\"\"calculate_posteriors takes in a dictionary or prior probabilities for class labels,\n",
    "        a 2D list of instance values for each attribute and a list of class labels.\n",
    "        \n",
    "        It returns a list of 2D dictionaries containing the posterior probabilities\n",
    "        for each attrbute possibility in each attribute column, given a class label\n",
    "        \"\"\"\n",
    "        \n",
    "        n_instances = len(class_list)\n",
    "\n",
    "        # Initialize a list of dictionaries, one for each attribute\n",
    "        posteriors_dictlist = [dict() for x in range(len(instance_list))]\n",
    "\n",
    "        # Initialize a default dict for each class label, for each attribute dictionary\n",
    "        for attribute_dd in posteriors_dictlist:\n",
    "            for class_label in priors_dict.keys():\n",
    "                # Start at 1 for Laplace smoothing\n",
    "                attribute_dd[class_label] = defaultdict(lambda:1)\n",
    "\n",
    "\n",
    "        # Count the number of instances for each conditional probability P(Attribute=attr_instance | Class)\n",
    "        for col in range(len(instance_list)):\n",
    "            for row in range(len(instance_list[col])):\n",
    "                \n",
    "                #Format is <Attribute> <Class> <Attribute Instance>\n",
    "                posteriors_dictlist[col][class_list[row]][instance_list[col][row]] += 1\n",
    "            \n",
    "            # Keep track of all attribute possibilites\n",
    "            attr_set = set()\n",
    "            for label in posteriors_dictlist[col].keys():\n",
    "                for attr in posteriors_dictlist[col][label].keys():\n",
    "                    attr_set.add(attr)\n",
    "            \n",
    "            # Add attributes with counts of 1 (Laplace Smoothing) when no occurances for a given class\n",
    "            for label in posteriors_dictlist[col].keys():\n",
    "                for attr in attr_set:\n",
    "                    if attr not in posteriors_dictlist[col][label].keys():\n",
    "                        # Start at 1 for Laplace smoothing\n",
    "                        posteriors_dictlist[col][label][attr] = 1\n",
    "                        \n",
    "        return posteriors_dictlist\n",
    "\n",
    "    # A dictionary containing the prior probabilities of class_labels,\n",
    "    priors_dict = calculate_priors(data[1])\n",
    "    \n",
    "    # Initialize a list of dictionaries, one for each attribute of the dataset\n",
    "    # The index of the dictlist corresponds to the attribute index of instance_list, or data[0]\n",
    "    posteriors_dictlist = calculate_posteriors(priors_dict, data[0], data[1])\n",
    "    \n",
    "    return priors_dict, posteriors_dictlist"
   ]
  },
  {
   "cell_type": "code",
   "execution_count": 71,
   "metadata": {
    "collapsed": true
   },
   "outputs": [],
   "source": [
    "def predict_supervised(test_set, NB_model):\n",
    "    \"\"\"Predicts the class for a set of instances, based on a trained supervised Naive Bayes model.\n",
    "    \n",
    "    Uses Laplace Smoothing to make all posterior probabilities non-zero.\n",
    "    Returns a list of class predictions.\n",
    "    \"\"\"\n",
    "    \n",
    "    predictions = []\n",
    "    \n",
    "    n_test_instances = len(test_set[0])\n",
    "    priors = NB_model[0]\n",
    "    posteriors = NB_model[1]\n",
    "    \n",
    "    # Make a prediction for every instance in the test set\n",
    "    for test_row in range(n_test_instances):\n",
    "        label_predict_probs = []\n",
    "        \n",
    "        # Calculate prediction probability for each class label\n",
    "        for label in priors.keys():\n",
    "            label_count = priors[label]\n",
    "            \n",
    "            # Prior log probability log(P(label))\n",
    "            label_prob = log(label_count / n_test_instances)\n",
    "            \n",
    "            # Sum the prediction probability and log(posterior probabilities) to avoid underlow\n",
    "            # Dividing by the number of labels + number of attribute values (Laplace Smoothing)\n",
    "            for test_col in range(len(test_set)):\n",
    "                attr = test_set[test_col][test_row]\n",
    "                \n",
    "                posterior_prob = posteriors[test_col][label][attr] / \\\n",
    "                        (label_count + len(posteriors[test_col][label]))\n",
    "                \n",
    "                label_prob += log(posterior_prob)\n",
    "            \n",
    "            # Turn log probabilitiy back in probability\n",
    "            label_prob = exp(label_prob)\n",
    "            label_predict_probs.append((label_prob, label))\n",
    "\n",
    "        # Sort the predictions from high-low and predict the label with the highest probability\n",
    "        label_predict_probs.sort(reverse=True)\n",
    "        predictions.append(label_predict_probs[0][1])\n",
    "    \n",
    "    return predictions"
   ]
  },
  {
   "cell_type": "code",
   "execution_count": 72,
   "metadata": {
    "collapsed": true
   },
   "outputs": [],
   "source": [
    "def evaluate_supervised(predicted_classes, actual_classes):\n",
    "    \"\"\"Evaluates the number of correct predictions made by a supervised classifier.\n",
    "    Returns an accuracy score between [0,1].\n",
    "    \"\"\"\n",
    "    \n",
    "    n_correct = 0\n",
    "    for test in range(len(predicted_classes)):\n",
    "        if predicted_classes[test] == actual_classes[test]:\n",
    "            n_correct += 1\n",
    "    return n_correct / len(predicted_classes)"
   ]
  },
  {
   "cell_type": "markdown",
   "metadata": {},
   "source": [
    "## Results"
   ]
  },
  {
   "cell_type": "code",
   "execution_count": 73,
   "metadata": {
    "collapsed": true
   },
   "outputs": [],
   "source": [
    "def test_and_print_supervised(dataset_csv_path):\n",
    "    \"\"\"Trains and evaluates a supervised Naive Bayes learner and prints an accuracy score\"\"\"\n",
    "    \n",
    "    data = preprocess(dataset_csv_path)\n",
    "    model = train_supervised(data)\n",
    "    predicted_classes = predict_supervised(data[0], model)   \n",
    "    acc = evaluate_supervised(predicted_classes, data[1])\n",
    "    print('Acc: '+ '{0:.2f}'.format(acc * 100) + '% for ' + dataset_csv_path.split('/')[-1] \\\n",
    "          +  ' with ' + str(len(predicted_classes)) + ' instances')"
   ]
  },
  {
   "cell_type": "code",
   "execution_count": 74,
   "metadata": {},
   "outputs": [
    {
     "name": "stdout",
     "output_type": "stream",
     "text": [
      "Supervised Naive Bayes (Laplace Smoothing)\n",
      "------------------------------------------\n",
      "Acc: 75.52% for breast-cancer.csv with 286 instances\n",
      "Acc: 69.85% for car.csv with 1728 instances\n",
      "Acc: 95.19% for hypothyroid.csv with 3163 instances\n",
      "Acc: 95.53% for mushroom.csv with 8124 instances\n"
     ]
    }
   ],
   "source": [
    "# Print supervised results with laplace smoothing\n",
    "print('Supervised Naive Bayes (Laplace Smoothing)')\n",
    "print('------------------------------------------')\n",
    "test_and_print_supervised('data/breast-cancer.csv')\n",
    "test_and_print_supervised('data/car.csv')\n",
    "test_and_print_supervised('data/hypothyroid.csv')\n",
    "test_and_print_supervised('data/mushroom.csv')"
   ]
  }
 ],
 "metadata": {
  "kernelspec": {
   "display_name": "Python 3",
   "language": "python",
   "name": "python3"
  },
  "language_info": {
   "codemirror_mode": {
    "name": "ipython",
    "version": 3
   },
   "file_extension": ".py",
   "mimetype": "text/x-python",
   "name": "python",
   "nbconvert_exporter": "python",
   "pygments_lexer": "ipython3",
   "version": "3.6.3"
  }
 },
 "nbformat": 4,
 "nbformat_minor": 2
}
